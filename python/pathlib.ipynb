{
 "cells": [
  {
   "cell_type": "code",
   "execution_count": 2,
   "metadata": {},
   "outputs": [
    {
     "output_type": "stream",
     "name": "stdout",
     "text": "~/resources/noise-raw-data/01231322504.mssed\n/home/coder/.project/studying/python/~/resources/noise-raw-data/01231322504.mssed\n('/', 'home', 'coder', '.project', 'studying', 'python', '~', 'resources', 'noise-raw-data', '01231322504.mssed')\n01231322504.mssed\nnoise-raw-data\n"
    }
   ],
   "source": [
    "from pathlib import Path\n",
    "\n",
    "p = Path('~/resources/noise-raw-data/01231322504.mssed')\n",
    "\n",
    "print(p)\n",
    "print(p.resolve())\n",
    "\n",
    "t = p.resolve()\n",
    "print(t.parts)\n",
    "print(t.parts[-1])\n",
    "\n",
    "f = Path(t.parts[-2])\n",
    "print(f)\n",
    "# with f.open(Path(t.parts[-1]).with_suffix('.png').__str__())\n",
    "# print(f)\n",
    "# print(f.rename(f.with_suffix('.png')))\n",
    "\n",
    "# print(f.parts())\n"
   ]
  }
 ],
 "metadata": {
  "language_info": {
   "codemirror_mode": {
    "name": "ipython",
    "version": 3
   },
   "file_extension": ".py",
   "mimetype": "text/x-python",
   "name": "python",
   "nbconvert_exporter": "python",
   "pygments_lexer": "ipython3",
   "version": 3
  },
  "orig_nbformat": 2,
  "kernelspec": {
   "name": "python_defaultSpec_1596005105915",
   "display_name": "Python 3.7.3 64-bit"
  }
 },
 "nbformat": 4,
 "nbformat_minor": 2
}