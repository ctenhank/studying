{
 "cells": [
  {
   "source": [
    "# Python Keyword"
   ],
   "cell_type": "markdown",
   "metadata": {}
  },
  {
   "cell_type": "code",
   "execution_count": 8,
   "metadata": {},
   "outputs": [
    {
     "output_type": "stream",
     "name": "stdout",
     "text": "The number of keyword in python is 35\nFalse None True and as assert async await break class continue def del elif else except finally for from global if import in is lambda nonlocal not or pass raise return try while with yield"
    }
   ],
   "source": [
    "import keyword\n",
    "\n",
    "kwlist = keyword.kwlist\n",
    "\n",
    "print(\"The number of keyword in python is \" + str(len(kwlist)))\n",
    "for kw in kwlist:\n",
    "    print(kw, end=' ')"
   ]
  },
  {
   "source": [
    "# Prolonged Keyword\n",
    "* assert  \n",
    "    뒤의 조건이 True가 아니면 AssertError를 발생\n",
    "* async/await  \n",
    "    비동기(asynchronization)로 데이터를 처리할 때 이용\n",
    "* yield  \n",
    "    generator와 연관\n",
    "* raise  \n",
    "    try/catch로 예외 발생시킬 수도 있지만 raise로 직접적으로 예외 발생 가능  \n",
    "    하지만 가독성을 저하시킬 수 있음\n",
    "* lambda  \n",
    "    람다 함수\n",
    "* nonlocal  \n",
    "    global 변수와는 달리 nonlocal는 함수 바로 한 단계 바깥 쪽에 위치한 변수와 바인딩\n",
    "* del  \n",
    "    object 또는 attribute를 제거하는 함수 호출하는 keyword"
   ],
   "cell_type": "markdown",
   "metadata": {}
  },
  {
   "cell_type": "code",
   "execution_count": null,
   "metadata": {},
   "outputs": [],
   "source": []
  }
 ],
 "metadata": {
  "language_info": {
   "codemirror_mode": {
    "name": "ipython",
    "version": 3
   },
   "file_extension": ".py",
   "mimetype": "text/x-python",
   "name": "python",
   "nbconvert_exporter": "python",
   "pygments_lexer": "ipython3",
   "version": 3
  },
  "orig_nbformat": 2,
  "kernelspec": {
   "name": "python_defaultSpec_1595927391725",
   "display_name": "Python 3.7.3 64-bit"
  }
 },
 "nbformat": 4,
 "nbformat_minor": 2
}