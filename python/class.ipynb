{
 "cells": [
  {
   "source": [
    "# Class\n",
    "\n",
    "* keyword: class\n",
    "* attribute: class/object\n",
    "* method: class/object/property\n",
    "* etc: abstract\n",
    "* access modifier: public, protected, private\n"
   ],
   "cell_type": "markdown",
   "metadata": {}
  },
  {
   "cell_type": "code",
   "execution_count": 2,
   "metadata": {},
   "outputs": [
    {
     "output_type": "stream",
     "name": "stdout",
     "text": "pub\npro\npri\nsubpub\nsubpro\npri\n"
    },
    {
     "output_type": "error",
     "ename": "AttributeError",
     "evalue": "'MySubClass' object has no attribute '__pri_attr'",
     "traceback": [
      "\u001b[0;31m---------------------------------------------------------------------------\u001b[0m",
      "\u001b[0;31mAttributeError\u001b[0m                            Traceback (most recent call last)",
      "\u001b[0;32m<ipython-input-2-9a2d970950e2>\u001b[0m in \u001b[0;36m<module>\u001b[0;34m\u001b[0m\n\u001b[1;32m     40\u001b[0m \u001b[0mprint\u001b[0m\u001b[0;34m(\u001b[0m\u001b[0msub\u001b[0m\u001b[0;34m.\u001b[0m\u001b[0m_pro_attr\u001b[0m\u001b[0;34m)\u001b[0m\u001b[0;34m\u001b[0m\u001b[0;34m\u001b[0m\u001b[0m\n\u001b[1;32m     41\u001b[0m \u001b[0mprint\u001b[0m\u001b[0;34m(\u001b[0m\u001b[0msub\u001b[0m\u001b[0;34m.\u001b[0m\u001b[0mpri_attr\u001b[0m\u001b[0;34m)\u001b[0m\u001b[0;34m\u001b[0m\u001b[0;34m\u001b[0m\u001b[0m\n\u001b[0;32m---> 42\u001b[0;31m \u001b[0mprint\u001b[0m\u001b[0;34m(\u001b[0m\u001b[0msub\u001b[0m\u001b[0;34m.\u001b[0m\u001b[0m__pri_attr\u001b[0m\u001b[0;34m)\u001b[0m\u001b[0;34m\u001b[0m\u001b[0;34m\u001b[0m\u001b[0m\n\u001b[0m\u001b[1;32m     43\u001b[0m \u001b[0;34m\u001b[0m\u001b[0m\n",
      "\u001b[0;31mAttributeError\u001b[0m: 'MySubClass' object has no attribute '__pri_attr'"
     ]
    }
   ],
   "source": [
    "class MyClass:\n",
    "    cls_attr = 0\n",
    "    def __init__(self, pub='pub', pro='pro', pri='pri'):\n",
    "        self.pub_attr = pub\n",
    "        self._pro_attr = pro\n",
    "        self.__pri_attr = pri\n",
    "\n",
    "    @property\n",
    "    def pro_attr(self):\n",
    "        return self._pro_attr\n",
    "\n",
    "    @property\n",
    "    def pri_attr(self):\n",
    "        return self.__pri_attr\n",
    "\n",
    "    @classmethod\n",
    "    def cls_mtd(cls):\n",
    "        print('class method')\n",
    "\n",
    "    @staticmethod\n",
    "    def sta_mtd():\n",
    "        print('static method')\n",
    "\n",
    "class MySubClass(MyClass):\n",
    "    cls_sub_attr = 0\n",
    "    def __init__(self, pub='subpub', pro='subpro', sub='sub'):\n",
    "        super().__init__(pub, pro)\n",
    "        self.sub_attr = 0\n",
    "\n",
    "sup = MyClass()\n",
    "sub = MySubClass()\n",
    "\n",
    "print(sup.pub_attr)\n",
    "print(sup._pro_attr)\n",
    "print(sup.pri_attr)\n",
    "# print(sup.__pri_attr)\n",
    "\n",
    "\n",
    "print(sub.pub_attr)\n",
    "print(sub._pro_attr)\n",
    "print(sub.pri_attr)\n",
    "print(sub.__pri_attr)\n",
    "\n"
   ]
  },
  {
   "source": [
    "# Inheritance"
   ],
   "cell_type": "markdown",
   "metadata": {}
  },
  {
   "cell_type": "code",
   "execution_count": 24,
   "metadata": {},
   "outputs": [
    {
     "output_type": "stream",
     "name": "stdout",
     "text": "[<class '__main__.ChildClass'>, <class '__main__.ParentClass'>, <class 'object'>]\n<class '__main__.ParentClass'>\n<function ChildClass.__init__ at 0x7fec84e98bf8>\n<built-in method __init_subclass__ of type object at 0x15068b8>\n"
    }
   ],
   "source": [
    "class ParentClass:\n",
    "    def __init__(self, name='parent'):\n",
    "        self.name = name\n",
    "        self.hello = 'hello'\n",
    "\n",
    "    def introduce(self):\n",
    "        return 'My name is' + self.name\n",
    "\n",
    "class ChildClass(ParentClass):\n",
    "    def __init__(self, name):\n",
    "        # self.parent = super(self).__init__(name + '\\'s parent')\n",
    "        self.name = name\n",
    "\n",
    "    def introduce(self):\n",
    "        return 'My name is' + self.name\n",
    "\n",
    "han = ChildClass('han')\n",
    "# print(ChildClass)\n",
    "# print(ChildClass.__dict__)\n",
    "print(ChildClass.mro())\n",
    "print(ChildClass.__base__)\n",
    "print(ChildClass.__init__)\n",
    "print(ChildClass.__init_subclass__)\n",
    "print(ChildClass.)\n",
    "# print(han.super().introduce())\n",
    "# print(han.hello, han.name)\n",
    "\n",
    "# han.introduce()\n",
    "# han.parent.introduce()\n",
    "\n"
   ]
  },
  {
   "source": [
    "# Abstract Method\n",
    "\n",
    "\n",
    "**Components**\n",
    "```python\n",
    "import abc\n",
    "\n",
    "@abstractmethod\n",
    "@abstractstaticmethod\n",
    "@abstractclassmethod\n",
    "@abtractproperty\n",
    "```\n"
   ],
   "cell_type": "markdown",
   "metadata": {}
  },
  {
   "cell_type": "code",
   "execution_count": 13,
   "metadata": {},
   "outputs": [],
   "source": [
    "from abc import *\n",
    "\n",
    "class AbstractClass:\n",
    "    def __init__(self, id=0):\n",
    "        self.__id = id\n",
    "        pass\n",
    "\n",
    "\"\"\"\n",
    "        Deprecated since version 3.3\n",
    "        abstractclassemthod\n",
    "        abstractstaticmethod\n",
    "        abstractproperty\n",
    "\"\"\"\n",
    "    \n",
    "    @abstractmethod\n",
    "    def abstract_method(self):\n",
    "        raise NotImplementedError()\n",
    "\n",
    "    @abstractclassmethod\n",
    "    def deprecated_abstract_class_method(cls):\n",
    "        raise NotImplementedError()\n",
    "    \n",
    "    @abstractstaticmethod\n",
    "    def abstract_static_method():\n",
    "        raise NotImplementedError() \n",
    "\n",
    "    @abstractproperty\n",
    "    def id(self):\n",
    "        return self.__id\n",
    "\n",
    "    @classmethod\n",
    "    @abstractmethod\n",
    "    def abstract_class_method(cls):\n",
    "        raise NotImplementedError()\n",
    "\n",
    "    @staticmethod\n",
    "    @abstractmethod\n",
    "    def abstract_static_method(cls):\n",
    "        raise NotImplementedError()\n",
    "    \n",
    "    @property\n",
    "    @abstractmethod\n",
    "    def abstract_property(cls):\n",
    "        raise NotImplementedError()"
   ]
  }
 ],
 "metadata": {
  "language_info": {
   "codemirror_mode": {
    "name": "ipython",
    "version": 3
   },
   "file_extension": ".py",
   "mimetype": "text/x-python",
   "name": "python",
   "nbconvert_exporter": "python",
   "pygments_lexer": "ipython3",
   "version": 3
  },
  "orig_nbformat": 2,
  "kernelspec": {
   "name": "python_defaultSpec_1596578760639",
   "display_name": "Python 3.7.3 64-bit"
  }
 },
 "nbformat": 4,
 "nbformat_minor": 2
}